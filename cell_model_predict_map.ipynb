{
 "cells": [
  {
   "cell_type": "code",
   "execution_count": null,
   "metadata": {},
   "outputs": [],
   "source": [
    "import pandas as pd\n",
    "# contains folders locations and all\n",
    "from setup import *\n",
    "from cells_detection.detection_model import *\n",
    "\n",
    "\n",
    "config = CellConfig()  "
   ]
  },
  {
   "cell_type": "code",
   "execution_count": null,
   "metadata": {},
   "outputs": [],
   "source": [
    "############################################################\n",
    "#  TEST PHASE \n",
    "\n",
    "# model weights= \"train_results/cell20230114T2246/mask_rcnn_cell_0023.h5\"\n",
    "############################################################\n",
    "\n",
    "DATASET_DIR2 = \"Images\"\n",
    "\n",
    "\n",
    "aps_range = [\"map@\" + str(ap) for ap in  np.arange(0.5, 1.0, 0.05) ]\n",
    "\n",
    "data = {'Model': aps_range}\n",
    "\n",
    "\n",
    "\n",
    "TRAIN_RESULT_DIR = \"train_results3\"\n",
    "WEIGHTS_DIRS =  [name for name in os.listdir(TRAIN_RESULT_DIR) if os.path.isdir(os.path.join(TRAIN_RESULT_DIR, name))]\n",
    "\n",
    "for WEIGHTS_DIR in WEIGHTS_DIRS :\n",
    "    \n",
    "    weights =  getLastWeight(os.path.join(TRAIN_RESULT_DIR,WEIGHTS_DIR))\n",
    "\n",
    "    aps_images = detect(weights,config,DATASET_DIR2,save_images=False)\n",
    "    \n",
    "    data[WEIGHTS_DIR] = aps_images.mean(-1)\n",
    "    \n",
    "df = pd.DataFrame(data)\n",
    "\n",
    "print(df)\n",
    "\n",
    "df.to_pickle(TRAIN_RESULT_DIR+\".pkl\")"
   ]
  },
  {
   "cell_type": "code",
   "execution_count": null,
   "metadata": {},
   "outputs": [
    {
     "name": "stdout",
     "output_type": "stream",
     "text": [
      "Weights:  train_results/cell20230118T2126/mask_rcnn_cell_0040.h5\n",
      "Dataset:  Images\n",
      "WARNING:tensorflow:From /users/Etu7/21113797/.conda/envs/PRAT/lib/python3.8/site-packages/tensorflow/python/util/deprecation.py:605: calling map_fn_v2 (from tensorflow.python.ops.map_fn) with dtype is deprecated and will be removed in a future version.\n",
      "Instructions for updating:\n",
      "Use fn_output_signature instead\n",
      "Re-starting from epoch 40\n",
      "Loading weights  train_results/cell20230118T2126/mask_rcnn_cell_0040.h5\n",
      "model map@ 0.5  =  0.9493603674793465\n",
      "model map@ 0.55  =  0.9434987591646062\n",
      "model map@ 0.6000000000000001  =  0.9397098347330175\n",
      "model map@ 0.6500000000000001  =  0.9343709784623976\n",
      "model map@ 0.7000000000000002  =  0.92979459429634\n",
      "model map@ 0.7500000000000002  =  0.9246119172519724\n",
      "model map@ 0.8000000000000003  =  0.9172910447817354\n",
      "model map@ 0.8500000000000003  =  0.8767821985690589\n",
      "model map@ 0.9000000000000004  =  0.5410717990618108\n",
      "model map@ 0.9500000000000004  =  0.0009220863929329397\n",
      "Weights:  train_results/cell20230119T2101/mask_rcnn_cell_0050.h5\n",
      "Dataset:  Images\n",
      "Re-starting from epoch 50\n",
      "Loading weights  train_results/cell20230119T2101/mask_rcnn_cell_0050.h5\n"
     ]
    }
   ],
   "source": [
    "DATASET_DIR2 = \"Images\"\n",
    "\n",
    "\n",
    "aps_range = [\"map@\" + str(ap) for ap in  np.arange(0.5, 1.0, 0.05) ]\n",
    "\n",
    "data = {'Model': aps_range}\n",
    "\n",
    "\n",
    "\n",
    "TRAIN_RESULT_DIR = \"train_results\"\n",
    "WEIGHTS_DIRS =  [name for name in os.listdir(TRAIN_RESULT_DIR) if os.path.isdir(os.path.join(TRAIN_RESULT_DIR, name))]\n",
    "\n",
    "for WEIGHTS_DIR in WEIGHTS_DIRS :\n",
    "    \n",
    "    weights =  getLastWeight(os.path.join(TRAIN_RESULT_DIR,WEIGHTS_DIR))\n",
    "\n",
    "    aps_images = detect(weights,config,DATASET_DIR2,save_images=False)\n",
    "    \n",
    "    data[WEIGHTS_DIR] = aps_images.mean(-1)\n",
    "    \n",
    "df = pd.DataFrame(data)\n",
    "\n",
    "print(df)\n",
    "\n",
    "df.to_pickle(TRAIN_RESULT_DIR+\".pkl\")"
   ]
  },
  {
   "cell_type": "code",
   "execution_count": null,
   "metadata": {},
   "outputs": [],
   "source": [
    "print(\"hey\")"
   ]
  },
  {
   "cell_type": "code",
   "execution_count": null,
   "metadata": {},
   "outputs": [],
   "source": []
  }
 ],
 "metadata": {
  "kernelspec": {
   "display_name": "Python 3",
   "language": "python",
   "name": "python3"
  },
  "language_info": {
   "codemirror_mode": {
    "name": "ipython",
    "version": 3
   },
   "file_extension": ".py",
   "mimetype": "text/x-python",
   "name": "python",
   "nbconvert_exporter": "python",
   "pygments_lexer": "ipython3",
   "version": "3.8.15 (default, Nov 24 2022, 15:19:38) \n[GCC 11.2.0]"
  },
  "vscode": {
   "interpreter": {
    "hash": "c1a8c881313ce5313f00bb059d1da8dd3e8f8985fbc06d18c42d35fb8275db21"
   }
  }
 },
 "nbformat": 4,
 "nbformat_minor": 2
}
