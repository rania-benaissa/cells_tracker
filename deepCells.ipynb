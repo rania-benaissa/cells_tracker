{
 "cells": [
  {
   "cell_type": "code",
   "execution_count": null,
   "metadata": {},
   "outputs": [],
   "source": [
    "print(\"hello\")"
   ]
  }
 ],
 "metadata": {
  "kernelspec": {
   "display_name": "Python 3.9.12 ('base')",
   "language": "python",
   "name": "python3"
  },
  "language_info": {
   "name": "python",
   "version": "3.9.12"
  },
  "orig_nbformat": 4,
  "vscode": {
   "interpreter": {
    "hash": "bf26b7cd27d9cd28cd55d005abc5997c8cf6618532feec3ffc0f345246dd35e4"
   }
  }
 },
 "nbformat": 4,
 "nbformat_minor": 2
}
