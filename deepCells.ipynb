{
  "cells": [
    {
      "cell_type": "markdown",
      "metadata": {
        "id": "view-in-github",
        "colab_type": "text"
      },
      "source": [
        "<a href=\"https://colab.research.google.com/github/rania-benaissa/cells_tracker/blob/main/deepCells.ipynb\" target=\"_parent\"><img src=\"https://colab.research.google.com/assets/colab-badge.svg\" alt=\"Open In Colab\"/></a>"
      ]
    },
    {
      "cell_type": "markdown",
      "source": [
        "To permanently DL deepcell\n"
      ],
      "metadata": {
        "id": "2UyM2DPOViQr"
      }
    },
    {
      "cell_type": "code",
      "execution_count": null,
      "metadata": {
        "id": "zhIv4QjEUm9H",
        "outputId": "26bfddff-bb2d-42b7-bc94-12e33b2977bc",
        "colab": {
          "base_uri": "https://localhost:8080/"
        }
      },
      "outputs": [
        {
          "output_type": "stream",
          "name": "stdout",
          "text": [
            "Drive already mounted at /content/gdrive; to attempt to forcibly remount, call drive.mount(\"/content/gdrive\", force_remount=True).\n",
            "Looking in indexes: https://pypi.org/simple, https://us-python.pkg.dev/colab-wheels/public/simple/\n",
            "Collecting deepcell\n",
            "  Using cached DeepCell-0.12.3.tar.gz (143 kB)\n",
            "  Installing build dependencies ... \u001b[?25l\u001b[?25hdone\n",
            "  Getting requirements to build wheel ... \u001b[?25l\u001b[?25hdone\n",
            "    Preparing wheel metadata ... \u001b[?25l\u001b[?25hdone\n",
            "Collecting numpy>=1.16.6\n",
            "  Using cached numpy-1.21.6-cp37-cp37m-manylinux_2_12_x86_64.manylinux2010_x86_64.whl (15.7 MB)\n",
            "Collecting scipy<2,>=1.2.3\n",
            "  Downloading scipy-1.7.3-cp37-cp37m-manylinux_2_12_x86_64.manylinux2010_x86_64.whl (38.1 MB)\n",
            "\u001b[K     |████████████████████████████████| 38.1 MB 236 kB/s \n",
            "\u001b[?25hCollecting scikit-learn>=0.20.4\n",
            "  Downloading scikit_learn-1.0.2-cp37-cp37m-manylinux_2_17_x86_64.manylinux2014_x86_64.whl (24.8 MB)\n",
            "\u001b[K     |████████████████████████████████| 24.8 MB 1.6 MB/s \n",
            "\u001b[?25hCollecting jupyter<2,>=1.0.0\n",
            "  Using cached jupyter-1.0.0-py2.py3-none-any.whl (2.7 kB)\n",
            "Collecting deepcell-toolbox~=0.11.2\n",
            "  Using cached DeepCell_Toolbox-0.11.2.tar.gz (39 kB)\n",
            "  Installing build dependencies ... \u001b[?25l\u001b[?25hdone\n",
            "  Getting requirements to build wheel ... \u001b[?25l\u001b[?25hdone\n",
            "    Preparing wheel metadata ... \u001b[?25l\u001b[?25hdone\n",
            "Collecting spektral~=1.0.4\n",
            "  Using cached spektral-1.0.8-py3-none-any.whl (123 kB)\n",
            "Collecting tensorflow-addons~=0.16.1\n",
            "  Using cached tensorflow_addons-0.16.1-cp37-cp37m-manylinux_2_12_x86_64.manylinux2010_x86_64.whl (1.1 MB)\n",
            "Collecting deepcell-tracking~=0.6.1\n",
            "  Using cached DeepCell_Tracking-0.6.3.tar.gz (39 kB)\n",
            "Collecting pydot<2,>=1.4.2\n",
            "  Using cached pydot-1.4.2-py2.py3-none-any.whl (21 kB)\n",
            "Collecting tensorflow~=2.8.0\n",
            "  Using cached tensorflow-2.8.4-cp37-cp37m-manylinux2010_x86_64.whl (497.9 MB)\n",
            "Collecting scikit-image>=0.14.5\n",
            "  Downloading scikit_image-0.19.3-cp37-cp37m-manylinux_2_12_x86_64.manylinux2010_x86_64.whl (13.5 MB)\n",
            "\u001b[K     |████████████████████████████████| 13.5 MB 58.6 MB/s \n",
            "\u001b[?25hCollecting opencv-python-headless<5\n",
            "  Downloading opencv_python_headless-4.6.0.66-cp36-abi3-manylinux_2_17_x86_64.manylinux2014_x86_64.whl (48.3 MB)\n",
            "\u001b[K     |████████████████████████████████| 48.3 MB 85 kB/s \n",
            "\u001b[?25hCollecting matplotlib\n",
            "  Downloading matplotlib-3.5.3-cp37-cp37m-manylinux_2_5_x86_64.manylinux1_x86_64.whl (11.2 MB)\n",
            "\u001b[K     |████████████████████████████████| 11.2 MB 29.2 MB/s \n",
            "\u001b[?25hCollecting pandas\n",
            "  Downloading pandas-1.3.5-cp37-cp37m-manylinux_2_17_x86_64.manylinux2014_x86_64.whl (11.3 MB)\n",
            "\u001b[K     |████████████████████████████████| 11.3 MB 41.8 MB/s \n",
            "\u001b[?25hCollecting networkx>=2.1\n",
            "  Downloading networkx-2.6.3-py3-none-any.whl (1.9 MB)\n",
            "\u001b[K     |████████████████████████████████| 1.9 MB 52.9 MB/s \n",
            "\u001b[?25hCollecting cython>=0.28.0\n",
            "  Using cached Cython-0.29.32-cp37-cp37m-manylinux_2_17_x86_64.manylinux2014_x86_64.manylinux_2_24_x86_64.whl (1.9 MB)\n",
            "Collecting tqdm\n",
            "  Downloading tqdm-4.64.1-py2.py3-none-any.whl (78 kB)\n",
            "\u001b[K     |████████████████████████████████| 78 kB 7.6 MB/s \n",
            "\u001b[?25hCollecting ipykernel\n",
            "  Downloading ipykernel-6.16.2-py3-none-any.whl (138 kB)\n",
            "\u001b[K     |████████████████████████████████| 138 kB 58.7 MB/s \n",
            "\u001b[?25hCollecting jupyter-console\n",
            "  Downloading jupyter_console-6.4.4-py3-none-any.whl (22 kB)\n",
            "Collecting notebook\n",
            "  Downloading notebook-6.5.2-py3-none-any.whl (439 kB)\n",
            "\u001b[K     |████████████████████████████████| 439 kB 56.3 MB/s \n",
            "\u001b[?25hCollecting nbconvert\n",
            "  Downloading nbconvert-7.2.5-py3-none-any.whl (273 kB)\n",
            "\u001b[K     |████████████████████████████████| 273 kB 49.6 MB/s \n",
            "\u001b[?25hCollecting ipywidgets\n",
            "  Downloading ipywidgets-8.0.2-py3-none-any.whl (134 kB)\n",
            "\u001b[K     |████████████████████████████████| 134 kB 52.5 MB/s \n",
            "\u001b[?25hCollecting qtconsole\n",
            "  Using cached qtconsole-5.4.0-py3-none-any.whl (121 kB)\n",
            "Collecting pyparsing>=2.1.4\n",
            "  Downloading pyparsing-3.0.9-py3-none-any.whl (98 kB)\n",
            "\u001b[K     |████████████████████████████████| 98 kB 8.4 MB/s \n",
            "\u001b[?25hCollecting tifffile>=2019.7.26\n",
            "  Downloading tifffile-2021.11.2-py3-none-any.whl (178 kB)\n",
            "\u001b[K     |████████████████████████████████| 178 kB 49.8 MB/s \n",
            "\u001b[?25hCollecting PyWavelets>=1.1.1\n",
            "  Downloading PyWavelets-1.3.0-cp37-cp37m-manylinux_2_5_x86_64.manylinux1_x86_64.manylinux_2_12_x86_64.manylinux2010_x86_64.whl (6.4 MB)\n",
            "\u001b[K     |████████████████████████████████| 6.4 MB 40.4 MB/s \n",
            "\u001b[?25hCollecting imageio>=2.4.1\n",
            "  Downloading imageio-2.22.4-py3-none-any.whl (3.4 MB)\n",
            "\u001b[K     |████████████████████████████████| 3.4 MB 36.8 MB/s \n",
            "\u001b[?25hCollecting packaging>=20.0\n",
            "  Downloading packaging-21.3-py3-none-any.whl (40 kB)\n",
            "\u001b[K     |████████████████████████████████| 40 kB 6.1 MB/s \n",
            "\u001b[?25hCollecting pillow!=7.1.0,!=7.1.1,!=8.3.0,>=6.1.0\n",
            "  Downloading Pillow-9.3.0-cp37-cp37m-manylinux_2_17_x86_64.manylinux2014_x86_64.whl (3.2 MB)\n",
            "\u001b[K     |████████████████████████████████| 3.2 MB 44.3 MB/s \n",
            "\u001b[?25hCollecting joblib>=0.11\n",
            "  Downloading joblib-1.2.0-py3-none-any.whl (297 kB)\n",
            "\u001b[K     |████████████████████████████████| 297 kB 71.6 MB/s \n",
            "\u001b[?25hCollecting threadpoolctl>=2.0.0\n",
            "  Downloading threadpoolctl-3.1.0-py3-none-any.whl (14 kB)\n",
            "Collecting numpy>=1.16.6\n",
            "  Using cached numpy-1.19.5-cp37-cp37m-manylinux2010_x86_64.whl (14.8 MB)\n",
            "Collecting requests\n",
            "  Downloading requests-2.28.1-py3-none-any.whl (62 kB)\n",
            "\u001b[K     |████████████████████████████████| 62 kB 1.6 MB/s \n",
            "\u001b[?25hCollecting lxml\n",
            "  Downloading lxml-4.9.1-cp37-cp37m-manylinux_2_17_x86_64.manylinux2014_x86_64.manylinux_2_24_x86_64.whl (6.4 MB)\n",
            "\u001b[K     |████████████████████████████████| 6.4 MB 50.9 MB/s \n",
            "\u001b[?25hCollecting keras<2.9,>=2.8.0rc0\n",
            "  Using cached keras-2.8.0-py2.py3-none-any.whl (1.4 MB)\n",
            "Collecting tensorflow~=2.8.0\n",
            "  Using cached tensorflow-2.8.3-cp37-cp37m-manylinux2010_x86_64.whl (497.9 MB)\n",
            "  Downloading https://us-python.pkg.dev/colab-wheels/public/tensorflow/tensorflow-2.8.2%2Bzzzcolab20220929150707-cp37-cp37m-linux_x86_64.whl (437.8 MB)\n",
            "\u001b[K     |████████████████████████████████| 437.8 MB 37 kB/s \n",
            "\u001b[?25h  Downloading https://us-python.pkg.dev/colab-wheels/public/tensorflow/tensorflow-2.8.2%2Bzzzcolab20220822160911-cp37-cp37m-linux_x86_64.whl (437.8 MB)\n",
            "\u001b[K     |████████████████████████████████| 437.8 MB 24 kB/s \n",
            "\u001b[?25h  Downloading https://us-python.pkg.dev/colab-wheels/public/tensorflow/tensorflow-2.8.2%2Bzzzcolab20220719082949-cp37-cp37m-linux_x86_64.whl (518.1 MB)\n",
            "\u001b[K     |████████████████████████████████| 518.1 MB 29 kB/s \n",
            "\u001b[?25h  Downloading https://us-python.pkg.dev/colab-wheels/public/tensorflow/tensorflow-2.8.2%2Bzzzcolab20220714162028-cp37-cp37m-linux_x86_64.whl (518.1 MB)\n",
            "\u001b[K     |████████████████████████████████| 518.1 MB 16 kB/s \n",
            "\u001b[?25h  Downloading https://us-python.pkg.dev/colab-wheels/public/tensorflow/tensorflow-2.8.2%2Bzzzcolab20220714152931-cp37-cp37m-linux_x86_64.whl (587.9 MB)\n",
            "\u001b[K     |████████████████▌               | 303.4 MB 1.4 MB/s eta 0:03:30"
          ]
        }
      ],
      "source": [
        "# import os, sys \n",
        "# #to be able to interact with Google Drive's operating system\n",
        "# from google.colab import drive \n",
        "# #drive is a module that allows us use Python to interact with google drive\n",
        "# drive.mount('/content/gdrive') \n",
        "# #mounting google drive allows us to work with its contents\n",
        "# nb_path = '/content/notebook'\n",
        "# os.symlink('/content/gdrive/My Drive/Colab Notebooks', nb_path)\n",
        "# sys.path.insert(0, nb_path)\n",
        "# !pip install --target=$nb_path deepcell"
      ]
    },
    {
      "cell_type": "code",
      "source": [],
      "metadata": {
        "id": "ytfm6Y_4VHwn"
      },
      "execution_count": null,
      "outputs": []
    }
  ],
  "metadata": {
    "kernelspec": {
      "display_name": "Python 3.9.12 ('base')",
      "language": "python",
      "name": "python3"
    },
    "language_info": {
      "name": "python",
      "version": "3.9.12"
    },
    "orig_nbformat": 4,
    "vscode": {
      "interpreter": {
        "hash": "bf26b7cd27d9cd28cd55d005abc5997c8cf6618532feec3ffc0f345246dd35e4"
      }
    },
    "colab": {
      "provenance": [],
      "include_colab_link": true
    }
  },
  "nbformat": 4,
  "nbformat_minor": 0
}