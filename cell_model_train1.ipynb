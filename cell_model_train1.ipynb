{
 "cells": [
  {
   "cell_type": "code",
   "execution_count": 1,
   "metadata": {},
   "outputs": [
    {
     "name": "stdout",
     "output_type": "stream",
     "text": [
      "Root directory /users/nfs/Etu7/21113797/PRAT/mrcnn\n"
     ]
    }
   ],
   "source": [
    "\n",
    "# contains folders locations and all\n",
    "from setup import *\n",
    "\n",
    "from cells_detection.cell import *\n",
    "from cells_detection.cellConfig import *\n",
    "from cells_detection.detection_model import *\n",
    "from cells_detection.train_model import *\n",
    "from itertools import product\n",
    "from mrcnn import model as modellib\n",
    "from mrcnn import visualize\n",
    "from math import ceil\n",
    "\n",
    "\n",
    "TRAIN_SAVE_DIR1 = os.path.abspath(\"train_results3\")\n"
   ]
  },
  {
   "cell_type": "code",
   "execution_count": 2,
   "metadata": {},
   "outputs": [
    {
     "name": "stdout",
     "output_type": "stream",
     "text": [
      "No known TensorBoard instances running.\n"
     ]
    }
   ],
   "source": [
    "from tensorboard import notebook\n",
    "notebook.list()"
   ]
  },
  {
   "cell_type": "code",
   "execution_count": 3,
   "metadata": {
    "scrolled": false
   },
   "outputs": [
    {
     "data": {
      "text/html": [
       "\n",
       "      <iframe id=\"tensorboard-frame-743681c5aa1af3a1\" width=\"100%\" height=\"800\" frameborder=\"0\">\n",
       "      </iframe>\n",
       "      <script>\n",
       "        (function() {\n",
       "          const frame = document.getElementById(\"tensorboard-frame-743681c5aa1af3a1\");\n",
       "          const url = new URL(\"/\", window.location);\n",
       "          const port = 7070;\n",
       "          if (port) {\n",
       "            url.port = port;\n",
       "          }\n",
       "          frame.src = url;\n",
       "        })();\n",
       "      </script>\n",
       "    "
      ],
      "text/plain": [
       "<IPython.core.display.HTML object>"
      ]
     },
     "metadata": {},
     "output_type": "display_data"
    }
   ],
   "source": [
    "%load_ext tensorboard \n",
    "%tensorboard --logdir {TRAIN_SAVE_DIR1} --host localhost --port 7070"
   ]
  },
  {
   "cell_type": "code",
   "execution_count": null,
   "metadata": {},
   "outputs": [
    {
     "name": "stdout",
     "output_type": "stream",
     "text": [
      "Weights:  coco\n",
      "Dataset:  /users/nfs/Etu7/21113797/PRAT/Images\n",
      "\n",
      "Configurations:\n",
      "AUGMENT_TRAIN                  True\n",
      "BACKBONE                       resnet50\n",
      "BACKBONE_STRIDES               [4, 8, 16, 32, 64]\n",
      "BATCH_SIZE                     6\n",
      "BBOX_STD_DEV                   [0.1 0.1 0.2 0.2]\n",
      "COMPUTE_BACKBONE_SHAPE         None\n",
      "DETECTION_MAX_INSTANCES        400\n",
      "DETECTION_MIN_CONFIDENCE       0.5\n",
      "DETECTION_NMS_THRESHOLD        0.3\n",
      "EPOCHS                         20\n",
      "FPN_CLASSIF_FC_LAYERS_SIZE     1024\n",
      "GPU_COUNT                      1\n",
      "GRADIENT_CLIP_NORM             5.0\n",
      "IMAGES_PER_GPU                 6\n",
      "IMAGE_CHANNEL_COUNT            3\n",
      "IMAGE_MAX_DIM                  512\n",
      "IMAGE_META_SIZE                14\n",
      "IMAGE_MIN_DIM                  512\n",
      "IMAGE_MIN_SCALE                2.0\n",
      "IMAGE_RESIZE_MODE              crop\n",
      "IMAGE_SHAPE                    [512 512   3]\n",
      "LEARNING_MOMENTUM              0.9\n",
      "LEARNING_RATE                  0.001\n",
      "LOSS_WEIGHTS                   {'rpn_class_loss': 1.0, 'rpn_bbox_loss': 1.0, 'mrcnn_class_loss': 1.0, 'mrcnn_bbox_loss': 1.0, 'mrcnn_mask_loss': 1.0}\n",
      "MASK_POOL_SIZE                 14\n",
      "MASK_SHAPE                     [28, 28]\n",
      "MAX_GT_INSTANCES               400\n",
      "MEAN_PIXEL                     [10.01 10.01 10.01]\n",
      "MINI_MASK_SHAPE                (56, 56)\n",
      "NAME                           cell\n",
      "NUM_CLASSES                    2\n",
      "OPTIMIZER                      SGD\n",
      "POOL_SIZE                      7\n",
      "POST_NMS_ROIS_INFERENCE        2000\n",
      "POST_NMS_ROIS_TRAINING         1000\n",
      "PRE_NMS_LIMIT                  6000\n",
      "ROI_POSITIVE_RATIO             0.33\n",
      "RPN_ANCHOR_RATIOS              [0.5, 1, 2]\n",
      "RPN_ANCHOR_SCALES              (8, 16, 32, 64, 128)\n",
      "RPN_ANCHOR_STRIDE              1\n",
      "RPN_BBOX_STD_DEV               [0.1 0.1 0.2 0.2]\n",
      "RPN_NMS_THRESHOLD              0.9\n",
      "RPN_TRAIN_ANCHORS_PER_IMAGE    128\n",
      "STEPS_PER_EPOCH                24\n",
      "TOP_DOWN_PYRAMID_SIZE          256\n",
      "TRAINABLE_LAYERS               heads\n",
      "TRAIN_BN                       False\n",
      "TRAIN_ROIS_PER_IMAGE           128\n",
      "USE_MINI_MASK                  True\n",
      "USE_RPN_ROIS                   True\n",
      "VALIDATION_STEPS               6\n",
      "WEIGHT_DECAY                   0.0001\n",
      "\n",
      "\n",
      "Loading weights  mask_rcnn_coco.h5\n",
      "Train heads  layers\n",
      "\n",
      "Starting at epoch 0. LR=0.001\n",
      "\n",
      "Checkpoint Path: /users/nfs/Etu7/21113797/PRAT/train_results3/cell20230123T1637/mask_rcnn_cell_{epoch:04d}.h5\n",
      "Selecting layers to train\n",
      "fpn_c5p5               (Conv2D)\n",
      "fpn_c4p4               (Conv2D)\n",
      "fpn_c3p3               (Conv2D)\n",
      "fpn_c2p2               (Conv2D)\n",
      "fpn_p5                 (Conv2D)\n",
      "fpn_p2                 (Conv2D)\n",
      "fpn_p3                 (Conv2D)\n",
      "fpn_p4                 (Conv2D)\n",
      "rpn_model              (Functional)\n",
      "mrcnn_mask_conv1       (TimeDistributed)\n",
      "mrcnn_mask_bn1         (TimeDistributed)\n",
      "mrcnn_mask_conv2       (TimeDistributed)\n",
      "mrcnn_mask_bn2         (TimeDistributed)\n",
      "mrcnn_class_conv1      (TimeDistributed)\n",
      "mrcnn_class_bn1        (TimeDistributed)\n",
      "mrcnn_mask_conv3       (TimeDistributed)\n",
      "mrcnn_mask_bn3         (TimeDistributed)\n",
      "mrcnn_class_conv2      (TimeDistributed)\n",
      "mrcnn_class_bn2        (TimeDistributed)\n",
      "mrcnn_mask_conv4       (TimeDistributed)\n",
      "mrcnn_mask_bn4         (TimeDistributed)\n",
      "mrcnn_bbox_fc          (TimeDistributed)\n",
      "mrcnn_mask_deconv      (TimeDistributed)\n",
      "mrcnn_class_logits     (TimeDistributed)\n",
      "mrcnn_mask             (TimeDistributed)\n",
      "WARNING:tensorflow:multiprocessing can interact badly with TensorFlow, causing nondeterministic deadlocks. For high performance data pipelines tf.data is recommended.\n",
      "Epoch 1/20\n",
      "24/24 [==============================] - ETA: 0s - batch: 11.5000 - size: 6.0000 - loss: 2.3558 - rpn_class_loss: 0.3178 - rpn_bbox_loss: 1.1116 - mrcnn_class_loss: 0.2504 - mrcnn_bbox_loss: 0.3816 - mrcnn_mask_loss: 0.2943 WARNING:tensorflow:multiprocessing can interact badly with TensorFlow, causing nondeterministic deadlocks. For high performance data pipelines tf.data is recommended.\n",
      "24/24 [==============================] - 815s 31s/step - batch: 11.5000 - size: 6.0000 - loss: 2.3558 - rpn_class_loss: 0.3178 - rpn_bbox_loss: 1.1116 - mrcnn_class_loss: 0.2504 - mrcnn_bbox_loss: 0.3816 - mrcnn_mask_loss: 0.2943 - val_loss: 1.3961 - val_rpn_class_loss: 0.1232 - val_rpn_bbox_loss: 0.8192 - val_mrcnn_class_loss: 0.1316 - val_mrcnn_bbox_loss: 0.1686 - val_mrcnn_mask_loss: 0.1536\n",
      "Epoch 2/20\n",
      "WARNING:tensorflow:multiprocessing can interact badly with TensorFlow, causing nondeterministic deadlocks. For high performance data pipelines tf.data is recommended.\n",
      " 6/24 [======>.......................] - ETA: 11:31 - batch: 2.5000 - size: 6.0000 - loss: 1.4210 - rpn_class_loss: 0.1297 - rpn_bbox_loss: 0.8766 - mrcnn_class_loss: 0.1103 - mrcnn_bbox_loss: 0.1519 - mrcnn_mask_loss: 0.1525"
     ]
    }
   ],
   "source": [
    "params = []\n",
    "\n",
    "#### THESE ARE ALREADY DONE\n",
    "\n",
    "# # params+= [[20,20,20,\"heads_4+_all\",True,\"SGD\",1e-3,1e-4,1e-5,6,\"coco\"]]\n",
    "# params+= [[20,20,20,\"heads_4+_all\",True,\"SGD\",1e-3,1e-4,1e-4,6,\"coco\"]]\n",
    "# params+= [[20,20,20,\"heads_4+_all\",True,\"SGD\",1e-3,1e-2,1e-2,6,\"coco\"]]\n",
    "\n",
    "# params+= [[20,20,0,\"heads_all\",True,\"SGD\",1e-3,1e-4,1e-4,6,\"coco\"]]\n",
    "# params+= [[20,20,0,\"heads_all\",True,\"SGD\",1e-3,1e-2,1e-2,6,\"coco\"]]\n",
    "\n",
    "# #it s really additiional\n",
    "# params+= [[10,20,20,\"heads_4+_all\",True,\"SGD\",1e-3,1e-4,1e-5,6,\"coco\"]]\n",
    "# params+= [[10,20,20,\"heads_4+_all\",True,\"SGD\",1e-3,1e-4,1e-4,6,\"coco\"]]\n",
    "# params+= [[10,20,20,\"heads_4+_all\",True,\"SGD\",1e-3,1e-2,1e-2,6,\"coco\"]]\n",
    "\n",
    "\n",
    "# new tests\n",
    "\n",
    "params+=[[20,30,30,\"heads_4+_all\",True,\"SGD\",1e-3,1e-3,1e-4,6,\"coco\"]]\n",
    "params+=[[20,30,30,\"heads_4+_all\",True,\"SGD\",1e-3,1e-4,1e-4,6,\"coco\"]]\n",
    "\n",
    "for (epochs1,epochs2,epochs3,train_mode,is_aug,optimizer,lr1,lr2,lr3,bsize,init_weights) in params: \n",
    "\n",
    "    print(\"Weights: \", init_weights)\n",
    "    print(\"Dataset: \", DATASET_DIR)\n",
    "\n",
    "    # Configurations\n",
    "    config = CellConfig(epochs1,is_aug,bsize,optimizer,lr1)  \n",
    "\n",
    "     # getting datasets with/out random augmenntations\n",
    "    dataset_train, dataset_val, augmentation = prepareDatasets(DATASET_DIR,config)\n",
    "\n",
    "\n",
    "    # selecting training mode\n",
    "\n",
    "\n",
    "    modes = train_mode.split('_') # it always return a list even if there s no split careful maam\n",
    "        \n",
    "# SECOND TRAINING PROCESS\n",
    "\n",
    "    if(len(modes)==2): # aka it s equal to 2\n",
    "\n",
    "        #### first train the head\n",
    "        config.TRAINABLE_LAYERS = modes[0]        \n",
    "        config.display()\n",
    "\n",
    "        # Create model\n",
    "        model = modellib.MaskRCNN(mode=\"training\", config=config,\n",
    "                                        model_dir=TRAIN_SAVE_DIR1)\n",
    "        # select the weights \n",
    "        model = selectWeights(model, weights= init_weights)\n",
    "        \n",
    "        train(model, config,dataset_train, dataset_val, augmentation)\n",
    "        \n",
    "        ### training everything\n",
    "        config.TRAINABLE_LAYERS = modes[1]\n",
    "        config.EPOCHS = epochs1 + epochs2\n",
    "        config.LEARNING_RATE = lr2\n",
    "        train(model, config,dataset_train, dataset_val, augmentation)\n",
    "\n",
    "    \n",
    "    if(len(modes)==3): # aka it s equal to 3\n",
    "\n",
    "        #### first train the head\n",
    "        config.TRAINABLE_LAYERS = modes[0]\n",
    "        config.display()\n",
    "\n",
    "        # Create model\n",
    "        model = modellib.MaskRCNN(mode=\"training\", config=config,\n",
    "                                        model_dir=TRAIN_SAVE_DIR1)\n",
    "        # select the weights \n",
    "        model = selectWeights(model, weights= init_weights)\n",
    "        \n",
    "        train(model, config,dataset_train, dataset_val, augmentation)\n",
    "        \n",
    "        ### training resnet \n",
    "        config.TRAINABLE_LAYERS = modes[1]\n",
    "        config.EPOCHS = epochs1 + epochs2  \n",
    "        config.LEARNING_RATE = lr2\n",
    "\n",
    "        train(model, config,dataset_train, dataset_val, augmentation)\n",
    "\n",
    "        #### then train everything\n",
    "        config.TRAINABLE_LAYERS = modes[2]\n",
    "        # train the remaining epocs\n",
    "        config.EPOCHS = epochs1 + epochs2 + epochs3   \n",
    "        config.LEARNING_RATE = lr3  \n",
    "        # Train \n",
    "        train(model, config,dataset_train, dataset_val, augmentation)\n",
    "\n",
    "    "
   ]
  },
  {
   "cell_type": "code",
   "execution_count": null,
   "metadata": {},
   "outputs": [],
   "source": [
    "import tensorflow as tf\n",
    "print(tf.__version__)"
   ]
  },
  {
   "cell_type": "code",
   "execution_count": null,
   "metadata": {},
   "outputs": [],
   "source": [
    "import keras\n",
    "print(keras.__version__)"
   ]
  },
  {
   "cell_type": "code",
   "execution_count": null,
   "metadata": {},
   "outputs": [],
   "source": []
  }
 ],
 "metadata": {
  "kernelspec": {
   "display_name": "Python 3",
   "language": "python",
   "name": "python3"
  },
  "language_info": {
   "codemirror_mode": {
    "name": "ipython",
    "version": 3
   },
   "file_extension": ".py",
   "mimetype": "text/x-python",
   "name": "python",
   "nbconvert_exporter": "python",
   "pygments_lexer": "ipython3",
   "version": "3.8.15"
  },
  "vscode": {
   "interpreter": {
    "hash": "c1a8c881313ce5313f00bb059d1da8dd3e8f8985fbc06d18c42d35fb8275db21"
   }
  }
 },
 "nbformat": 4,
 "nbformat_minor": 2
}
