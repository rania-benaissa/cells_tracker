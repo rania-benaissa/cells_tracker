{
 "cells": [
  {
   "cell_type": "code",
   "execution_count": 16,
   "metadata": {},
   "outputs": [
    {
     "name": "stdout",
     "output_type": "stream",
     "text": [
      "['t084.tif', 't175.tif', 't089.tif', 't086.tif', 't181.tif', 't088.tif', 't091.tif', 't083.tif', 't176.tif', 't180.tif', 't183.tif', 't178.tif', 't085.tif', 't090.tif', 't174.tif', 't087.tif', 't182.tif', 't179.tif', 't177.tif']\n"
     ]
    }
   ],
   "source": [
    "import os \n",
    "import skimage.io\n",
    "\n",
    "import numpy as np\n",
    "\n",
    "def normalizeImage(image):\n",
    "    \"\"\" Array*int*int -> Array \"\"\"\n",
    " \n",
    "    return (255/(image.max()-image.min())) * (image - image.min())\n",
    "\n",
    "path = '/users/Etu7/21113797/PRAT/Images/test'\n",
    "files = os.listdir(path)\n",
    "\n",
    "print(files)"
   ]
  },
  {
   "cell_type": "code",
   "execution_count": 17,
   "metadata": {},
   "outputs": [
    {
     "name": "stdout",
     "output_type": "stream",
     "text": [
      "t084.tif\n",
      "255\n",
      "t175.tif\n",
      "255\n",
      "t089.tif\n",
      "255\n",
      "t086.tif\n",
      "255\n",
      "t181.tif\n",
      "255\n",
      "t088.tif\n",
      "255\n",
      "t091.tif\n",
      "255\n",
      "t083.tif\n",
      "255\n",
      "t176.tif\n",
      "254\n",
      "t180.tif\n",
      "254\n",
      "t183.tif\n",
      "255\n",
      "t178.tif\n",
      "254\n",
      "t085.tif\n",
      "255\n",
      "t090.tif\n",
      "255\n",
      "t174.tif\n",
      "255\n",
      "t087.tif\n",
      "255\n",
      "t182.tif\n",
      "255\n",
      "t179.tif\n",
      "255\n",
      "t177.tif\n",
      "255\n"
     ]
    }
   ],
   "source": [
    "# for i in range(len(files)):\n",
    "\n",
    "#     image = skimage.io.imread(os.path.join(path, files[i]))\n",
    "\n",
    "#     print(files[i])\n",
    "\n",
    "#     image_stretched = normalizeImage(image).astype(np.uint8)\n",
    "\n",
    "#     skimage.io.imsave(os.path.join(path, files[i]),image_stretched)\n",
    "\n",
    "#     image = skimage.io.imread(os.path.join(path, files[i]))\n",
    "\n",
    "#     print(image.max())"
   ]
  },
  {
   "cell_type": "code",
   "execution_count": 2,
   "metadata": {},
   "outputs": [
    {
     "name": "stdout",
     "output_type": "stream",
     "text": [
      "['heads', '4+', 'all']\n"
     ]
    }
   ],
   "source": [
    "train_mode = \"heads_4+_all\"\n",
    "modes = train_mode.split('_')\n",
    "\n",
    "print(modes)"
   ]
  },
  {
   "cell_type": "code",
   "execution_count": 4,
   "metadata": {},
   "outputs": [
    {
     "name": "stdout",
     "output_type": "stream",
     "text": [
      "(10, 'all', True, 0.001, 6, 'coco')\n",
      "(10, 'all', True, 0.001, 8, 'coco')\n",
      "(10, 'all', True, 0.001, 16, 'coco')\n",
      "(10, 'all', True, 0.0001, 6, 'coco')\n",
      "(10, 'all', True, 0.0001, 8, 'coco')\n",
      "(10, 'all', True, 0.0001, 16, 'coco')\n",
      "(10, 'all', False, 0.001, 6, 'coco')\n",
      "(10, 'all', False, 0.001, 8, 'coco')\n",
      "(10, 'all', False, 0.001, 16, 'coco')\n",
      "(10, 'all', False, 0.0001, 6, 'coco')\n",
      "(10, 'all', False, 0.0001, 8, 'coco')\n",
      "(10, 'all', False, 0.0001, 16, 'coco')\n",
      "(10, 'heads_all', True, 0.001, 6, 'coco')\n",
      "(10, 'heads_all', True, 0.001, 8, 'coco')\n",
      "(10, 'heads_all', True, 0.001, 16, 'coco')\n",
      "(10, 'heads_all', True, 0.0001, 6, 'coco')\n",
      "(10, 'heads_all', True, 0.0001, 8, 'coco')\n",
      "(10, 'heads_all', True, 0.0001, 16, 'coco')\n",
      "(10, 'heads_all', False, 0.001, 6, 'coco')\n",
      "(10, 'heads_all', False, 0.001, 8, 'coco')\n",
      "(10, 'heads_all', False, 0.001, 16, 'coco')\n",
      "(10, 'heads_all', False, 0.0001, 6, 'coco')\n",
      "(10, 'heads_all', False, 0.0001, 8, 'coco')\n",
      "(10, 'heads_all', False, 0.0001, 16, 'coco')\n",
      "(10, 'heads_4+_all', True, 0.001, 6, 'coco')\n",
      "(10, 'heads_4+_all', True, 0.001, 8, 'coco')\n",
      "(10, 'heads_4+_all', True, 0.001, 16, 'coco')\n",
      "(10, 'heads_4+_all', True, 0.0001, 6, 'coco')\n",
      "(10, 'heads_4+_all', True, 0.0001, 8, 'coco')\n",
      "(10, 'heads_4+_all', True, 0.0001, 16, 'coco')\n",
      "(10, 'heads_4+_all', False, 0.001, 6, 'coco')\n",
      "(10, 'heads_4+_all', False, 0.001, 8, 'coco')\n",
      "(10, 'heads_4+_all', False, 0.001, 16, 'coco')\n",
      "(10, 'heads_4+_all', False, 0.0001, 6, 'coco')\n",
      "(10, 'heads_4+_all', False, 0.0001, 8, 'coco')\n",
      "(10, 'heads_4+_all', False, 0.0001, 16, 'coco')\n",
      "(20, 'all', True, 0.001, 6, 'coco')\n",
      "(20, 'all', True, 0.001, 8, 'coco')\n",
      "(20, 'all', True, 0.001, 16, 'coco')\n",
      "(20, 'all', True, 0.0001, 6, 'coco')\n",
      "(20, 'all', True, 0.0001, 8, 'coco')\n",
      "(20, 'all', True, 0.0001, 16, 'coco')\n",
      "(20, 'all', False, 0.001, 6, 'coco')\n",
      "(20, 'all', False, 0.001, 8, 'coco')\n",
      "(20, 'all', False, 0.001, 16, 'coco')\n",
      "(20, 'all', False, 0.0001, 6, 'coco')\n",
      "(20, 'all', False, 0.0001, 8, 'coco')\n",
      "(20, 'all', False, 0.0001, 16, 'coco')\n",
      "(20, 'heads_all', True, 0.001, 6, 'coco')\n",
      "(20, 'heads_all', True, 0.001, 8, 'coco')\n",
      "(20, 'heads_all', True, 0.001, 16, 'coco')\n",
      "(20, 'heads_all', True, 0.0001, 6, 'coco')\n",
      "(20, 'heads_all', True, 0.0001, 8, 'coco')\n",
      "(20, 'heads_all', True, 0.0001, 16, 'coco')\n",
      "(20, 'heads_all', False, 0.001, 6, 'coco')\n",
      "(20, 'heads_all', False, 0.001, 8, 'coco')\n",
      "(20, 'heads_all', False, 0.001, 16, 'coco')\n",
      "(20, 'heads_all', False, 0.0001, 6, 'coco')\n",
      "(20, 'heads_all', False, 0.0001, 8, 'coco')\n",
      "(20, 'heads_all', False, 0.0001, 16, 'coco')\n",
      "(20, 'heads_4+_all', True, 0.001, 6, 'coco')\n",
      "(20, 'heads_4+_all', True, 0.001, 8, 'coco')\n",
      "(20, 'heads_4+_all', True, 0.001, 16, 'coco')\n",
      "(20, 'heads_4+_all', True, 0.0001, 6, 'coco')\n",
      "(20, 'heads_4+_all', True, 0.0001, 8, 'coco')\n",
      "(20, 'heads_4+_all', True, 0.0001, 16, 'coco')\n",
      "(20, 'heads_4+_all', False, 0.001, 6, 'coco')\n",
      "(20, 'heads_4+_all', False, 0.001, 8, 'coco')\n",
      "(20, 'heads_4+_all', False, 0.001, 16, 'coco')\n",
      "(20, 'heads_4+_all', False, 0.0001, 6, 'coco')\n",
      "(20, 'heads_4+_all', False, 0.0001, 8, 'coco')\n",
      "(20, 'heads_4+_all', False, 0.0001, 16, 'coco')\n"
     ]
    }
   ],
   "source": [
    "from cells_detection.cellConfig import *\n",
    "from itertools import product\n",
    "parameters = dict(\n",
    "    epochs = [10,20],#[20,40,60],\n",
    "    # whether to augment training set or not\n",
    "    \n",
    "    training_method = [\"all\",\"heads_all\",\"heads_4+_all\"],\n",
    "    # IMAGE PER GPU === BATCH SIZE is it better to set it according to dataset ? we'll know it asap\n",
    "    is_aug = [True,False],\n",
    "    lr  = [1e-3,1e-4],\n",
    "    bsize = [6,8,16],\n",
    "\n",
    "    init_weights = [\"coco\"] # for the moment let s try with coco \n",
    "    # to consider someday\n",
    "    # backbone = [\"resnet50\", \"resnet101\"]\n",
    ")\n",
    "\n",
    "\n",
    "param_values = [ v for v in parameters.values()]\n",
    "\n",
    "\n",
    "params = list(product(*param_values))\n",
    "\n",
    "for param in params:\n",
    "    print(param)"
   ]
  },
  {
   "cell_type": "code",
   "execution_count": 1,
   "metadata": {},
   "outputs": [
    {
     "name": "stdout",
     "output_type": "stream",
     "text": [
      "['t070.tif', 't046.tif', 't005.tif', 't144.tif', 't072.tif', 't033.tif', 't097.tif', 't057.tif', 't109.tif', 't143.tif', 't059.tif', 't051.tif', 't145.tif', 't128.tif', 't135.tif', 't018.tif', 't012.tif', 't029.tif', 't050.tif', 't122.tif', 't093.tif', 't010.tif', 't014.tif', 't000.tif', 't008.tif', 't132.tif', 't127.tif', 't130.tif', 't151.tif', 't060.tif', 't123.tif', 't006.tif', 't119.tif', 't016.tif', 't066.tif', 't161.tif', 't121.tif', 't024.tif', 't112.tif', 't073.tif', 't048.tif', 't115.tif', 't111.tif', 't065.tif', 't043.tif', 't114.tif', 't104.tif', 't101.tif', 't022.tif', 't037.tif', 't107.tif', 't025.tif', 't141.tif', 't009.tif', 't153.tif', 't036.tif', 't096.tif', 't149.tif', 't038.tif', 't092.tif', 't068.tif', 't003.tif', 't047.tif', 't164.tif', 't069.tif', 't031.tif', 't011.tif', 't004.tif', 't049.tif', 't056.tif', 't158.tif', 't041.tif', 't063.tif', 't017.tif', 't098.tif', 't044.tif', 't094.tif', 't064.tif', 't035.tif', 't129.tif', 't138.tif', 't160.tif', 't052.tif', 't053.tif', 't058.tif', 't023.tif', 't001.tif', 't131.tif', 't142.tif', 't146.tif', 't134.tif', 't019.tif', 't147.tif', 't100.tif', 't040.tif', 't071.tif', 't054.tif', 't118.tif', 't113.tif', 't102.tif', 't125.tif', 't015.tif', 't013.tif', 't110.tif', 't136.tif', 't156.tif', 't032.tif', 't162.tif', 't154.tif', 't034.tif', 't152.tif', 't045.tif', 't103.tif', 't028.tif', 't126.tif', 't062.tif', 't157.tif', 't021.tif', 't020.tif', 't055.tif', 't124.tif', 't159.tif', 't099.tif', 't120.tif', 't155.tif', 't148.tif', 't027.tif', 't116.tif', 't108.tif', 't150.tif', 't139.tif', 't030.tif', 't163.tif', 't095.tif', 't133.tif', 't137.tif', 't105.tif', 't140.tif', 't117.tif', 't106.tif', 't007.tif', 't067.tif', 't039.tif', 't042.tif', 't061.tif', 't002.tif', 't026.tif']\n"
     ]
    }
   ],
   "source": [
    "\n",
    "print(os.listdir(os.path.join(\n",
    "        \"Images/\", \"train\")))\n",
    "\n"
   ]
  },
  {
   "cell_type": "code",
   "execution_count": null,
   "metadata": {},
   "outputs": [],
   "source": []
  }
 ],
 "metadata": {
  "kernelspec": {
   "display_name": "PRAT",
   "language": "python",
   "name": "python3"
  },
  "language_info": {
   "codemirror_mode": {
    "name": "ipython",
    "version": 3
   },
   "file_extension": ".py",
   "mimetype": "text/x-python",
   "name": "python",
   "nbconvert_exporter": "python",
   "pygments_lexer": "ipython3",
   "version": "3.8.15 (default, Nov 24 2022, 15:19:38) \n[GCC 11.2.0]"
  },
  "orig_nbformat": 4,
  "vscode": {
   "interpreter": {
    "hash": "c1a8c881313ce5313f00bb059d1da8dd3e8f8985fbc06d18c42d35fb8275db21"
   }
  }
 },
 "nbformat": 4,
 "nbformat_minor": 2
}
