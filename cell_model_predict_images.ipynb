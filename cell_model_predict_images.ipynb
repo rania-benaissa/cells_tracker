{
 "cells": [
  {
   "cell_type": "code",
   "execution_count": 1,
   "metadata": {},
   "outputs": [
    {
     "name": "stdout",
     "output_type": "stream",
     "text": [
      "Root directory /users/nfs/Etu7/21113797/PRAT/mrcnn\n"
     ]
    }
   ],
   "source": [
    "import pandas as pd\n",
    "# contains folders locations and all\n",
    "from setup import *\n",
    "from cells_detection.detection_model import *\n",
    "\n",
    "\n"
   ]
  },
  {
   "cell_type": "code",
   "execution_count": null,
   "metadata": {},
   "outputs": [
    {
     "name": "stdout",
     "output_type": "stream",
     "text": [
      "Weights:  train_results3/cell20230123T1638/mask_rcnn_cell_0080.h5\n",
      "Dataset:  Images\n",
      "WARNING:tensorflow:From /users/Etu7/21113797/.conda/envs/PRAT/lib/python3.8/site-packages/tensorflow/python/util/deprecation.py:605: calling map_fn_v2 (from tensorflow.python.ops.map_fn) with dtype is deprecated and will be removed in a future version.\n",
      "Instructions for updating:\n",
      "Use fn_output_signature instead\n",
      "Re-starting from epoch 80\n",
      "Loading weights  train_results3/cell20230123T1638/mask_rcnn_cell_0080.h5\n"
     ]
    }
   ],
   "source": [
    "############################################################\n",
    "#  TEST PHASE \n",
    "\n",
    "# model weights= \"train_results/cell20230114T2246/mask_rcnn_cell_0023.h5\"\n",
    "############################################################\n",
    "config = CellConfig()  \n",
    "\n",
    "DATASET_DIR2 = \"Images\"\n",
    "\n",
    "weights =  \"train_results3/cell20230123T1638/mask_rcnn_cell_0080.h5\"\n",
    "\n",
    "detect(weights,config,DATASET_DIR2,save_images=True)\n",
    "    \n",
    "    \n"
   ]
  },
  {
   "cell_type": "code",
   "execution_count": null,
   "metadata": {},
   "outputs": [],
   "source": []
  }
 ],
 "metadata": {
  "kernelspec": {
   "display_name": "Python 3",
   "language": "python",
   "name": "python3"
  },
  "language_info": {
   "codemirror_mode": {
    "name": "ipython",
    "version": 3
   },
   "file_extension": ".py",
   "mimetype": "text/x-python",
   "name": "python",
   "nbconvert_exporter": "python",
   "pygments_lexer": "ipython3",
   "version": "3.8.15 (default, Nov 24 2022, 15:19:38) \n[GCC 11.2.0]"
  },
  "vscode": {
   "interpreter": {
    "hash": "c1a8c881313ce5313f00bb059d1da8dd3e8f8985fbc06d18c42d35fb8275db21"
   }
  }
 },
 "nbformat": 4,
 "nbformat_minor": 2
}
